{
 "cells": [
  {
   "cell_type": "code",
   "execution_count": 15,
   "metadata": {},
   "outputs": [
    {
     "name": "stdout",
     "output_type": "stream",
     "text": [
      "Requirement already satisfied: dnspython in /opt/homebrew/lib/python3.10/site-packages (2.6.1)\n",
      "Note: you may need to restart the kernel to use updated packages.\n"
     ]
    }
   ],
   "source": [
    "pip install dnspython"
   ]
  },
  {
   "cell_type": "code",
   "execution_count": 20,
   "metadata": {},
   "outputs": [],
   "source": [
    "import csv\n",
    "import dns.resolver\n",
    "\n",
    "def check_mx_record(domain):\n",
    "    try:\n",
    "        answers = dns.resolver.resolve(domain, 'MX')\n",
    "        return True if answers else False\n",
    "    except (dns.resolver.NoNameservers, dns.resolver.NoAnswer, dns.resolver.NXDOMAIN, dns.resolver.Timeout):\n",
    "        return False\n",
    "\n",
    "def check_domains(domains):\n",
    "    results = []\n",
    "    for domain in domains:\n",
    "        has_mx = check_mx_record(domain)\n",
    "        results.append({'domain': domain, 'has_mx': has_mx})\n",
    "    return results\n",
    "\n",
    "def save_to_csv(results, filename):\n",
    "    with open(filename, 'w', newline='') as csvfile:\n",
    "        fieldnames = ['domain', 'has_mx']\n",
    "        writer = csv.DictWriter(csvfile, fieldnames=fieldnames)\n",
    "        writer.writeheader()\n",
    "        for result in results:\n",
    "            writer.writerow(result)\n",
    "\n",
    "if __name__ == \"__main__\":\n",
    "    domains = [\n",
    "        '2sms.kyivstar.net','advantagepaging.com','airmessage.net','airtelap.com','airtelchennai.com','airtelkol.com',\n",
    "        'airtelmail.com','airtouch.net','airtouchpaging.com','alltelmessage.com','alphame.com','alphanow.net',\n",
    "        'alphapage.airtouch.com','archwireless.net','beep.com','beepone.net','beepwear.net','bellmobility.ca','bellsouth.cl',\n",
    "        'bellsouthtips.com','blsdcs.net','blueskyfrog.com','bluewin.ch','bplmobile.com','c.vodafone.ne.jp','celforce.com',\n",
    "        'cell1.textmsg.com','cellcom.quiktxt.com','cellularone.textmsg.com','cellularone.txtmsg.com','cellularonewest.com',\n",
    "        'cingular.com','cingularme.com','clearlydigital.com','clearpath.acswireless.com','cmcpaging.com',\n",
    "        'comcastpcs.textmsg.com','cookmail.com','correo.movistar.net','corrwireless.net','csouth1.com','cspire1.com',\n",
    "        'cvcpaging.com','cwemail.com','cwmovil.com','cwwsms.com','delhi.hutch.co.in','dpcs.mobile.att.net','e-page.net',\n",
    "        'echoemail.net','email.skytel.com','email.swbw.com','email.uscc.net','emtelworld.net','epage.arch.com',\n",
    "        'epage.porta-phone.com','escotelmobile.com','fido.ca','freesurf.ch','gscsms.com','gsm1800.telia.dk','gte.pagegate.net',\n",
    "        'h.vodafone.ne.jp','hawaii.sprintpcs.com','ideacellular.net','inlandlink.com','isp.com','iwirelesshometext.com',\n",
    "        'iwspcs.net','jsmtel.com','m1.com.sg','mail.msgsender.com','mail.uscc.net','mailmymobile.net','mci.com',\n",
    "        'mellonmobile.ga','message.alltel.com','message.bam.com','message.cellone-sf.com','messagealert.com',\n",
    "        'messaging.centurytel.net','messaging.nextel.com','messaging.sprintpcs.com','metropcs.sms.us','ml.bm','mmail.co.uk',\n",
    "        'mmode.com','mms.alltel.net','mms.alltelwireless.com','mms.att.net','mms.cingularme.com','mms.cricketwireless.net',\n",
    "        'mms.gocbw.com','mms.myblueworks.com','mms.mycricket.com','mms.uscc.net','mmst5.tracfone.com','mmsviaero.com',\n",
    "        'mobile.att.net','mobile.celloneusa.com','mobile.cellularone.com','mobile.dobson.net','mobile.gci.net',\n",
    "        'mobile.kajeet.net','mobile.mycingular.com','mobile.mycingular.net','mobile.surewest.com','mobilecell1se.com',\n",
    "        'mobilecomm.net','mobilpost.no','mobistar.be','mobtel.co.yu','movistar.net','msg.acsalaska.com','msg.clearnet.com',\n",
    "        'msg.fi.google.com','msg.pioneerenidcellular.com','msg.telus.com','mujoskar.cz','my2way.com','myairmail.com',\n",
    "        'myboostmobile.com','mycellone.com','mycingular.com','mycingular.net','mycingular.textmsg.com','myhelio.com',\n",
    "        'mymeteor.ie','mymetropcs.com','mypixmessages.com','mysmart.mymobile.ph','mysunrise.ch','myvzw.com','nextel.com.br',\n",
    "        'npiwireless.com','o2.co.uk','o2imail.co.uk','omnipoint.com','omnipointpcs.com','onemail.at','onlinebeep.net',\n",
    "        'opensms.ipipi.com','optusmobile.com.au','orange.net','orangemail.co.in','pacbellpcs.net','page.americanmessaging.net',\n",
    "        'page.att.net','page.cingular.com','page.hit.net','page.infopagesystems.com','page.metrocall.com','page.mobilcom.net',\n",
    "        'page.mobilfone.com','page.nextel.com','page.propage.net','page.southernlinc.com','page.stpaging.com','page1nw.com',\n",
    "        'pageapi.com','pagegate.pagenet.ca','pagemart.net','pagemci.com','pageme.comspeco.net','pageme.teletouch.com',\n",
    "        'pager.comspeco.com','pager.irkutsk.ru','pager.qualcomm.com','pager.tdspager.com','paging.acswireless.com',\n",
    "        'paging.cellone-sf.com','pcs.ntelos.com','pcs.rogers.com','pcsone.net','pelephone.net.il','phone.cellone.net',\n",
    "        'pm.sprint.com','pmcl.net','primeco@textmsg.com','qwestmp.com','ram-page.com','rinasms.com','rpgmail.net',\n",
    "        'safaricomsms.com','satelindogsm.com','satellink.net','sbcemail.com','scs-900.ru','sendabeep.net','sfr.fr',\n",
    "        'skytel.com','sms.3rivers.net','sms.advantagecell.net','sms.airfiremobile.com','sms.beemail.ru','sms.bellsouth.com',\n",
    "        'sms.bluecell.com','sms.cleartalk.us','sms.co.tz','sms.comviq.se','sms.cricketwireless.net','sms.cvalley.net',\n",
    "        'sms.edgewireless.com','sms.elementmobile.net','sms.emt.ee','sms.goldentele.com','sms.kyivstar.net','sms.luxgsm.lu',\n",
    "        'sms.myboostmobile.com','sms.mycricket.com','sms.mymeteor.ie','sms.netcom.no','sms.ntwls.net','sms.orange.nl',\n",
    "        'sms.pocket.com','sms.primtel.ru','sms.pscel.com','sms.rogers.com','sms.smartmessagingsuite.com','sms.t-mobile.at',\n",
    "        'sms.tele2.lv','sms.umc.com.ua','sms.uraltel.ru','sms.vodafone.it','sms.wcc.net','sms.wildmist.net','sms.xit.net',\n",
    "        'smsmail.lmt.lv','sprintpaging.com','suncom1.com','swmsg.com','t-d1-sms.de','t-mobile-sms.de','t-mobile.uk.net',\n",
    "        't.vodafone.ne.jp','teleflip.com','text.houstoncellular.net','text.longlines.com','text.mtsmobility.com',\n",
    "        'text.plusgsm.pl','text.simplefreedom.net','text.voyagermobile.com','timnet.com','tmomail.net','tms.suncom.com',\n",
    "        'txt.att.net','txt.bell.ca','txt.bellmobility.ca','union-tel.com','usamobility.net','uscc.textmsg.com',\n",
    "        'uswestdatamail.com','utext.com','viaerosms.com','vmobile.ca','vmobl.com','voda.co.za','vodafone.es','vodafone.net',\n",
    "        'voicestream.net','vswpix.com','vtext.com','vtxt.com','vxtras.com','vzwpix.com','webpager.us','webtext.com',\n",
    "        'wirefree.informe.ca','wireless.bellsouth.com','wyndtell.com',\n",
    "        # Add more domains here.\n",
    "    ]\n",
    "    \n",
    "    results = check_domains(domains)\n",
    "    save_to_csv(results, 'domain_mx_check.csv')\n",
    "\n"
   ]
  }
 ],
 "metadata": {
  "kernelspec": {
   "display_name": "Python 3",
   "language": "python",
   "name": "python3"
  },
  "language_info": {
   "codemirror_mode": {
    "name": "ipython",
    "version": 3
   },
   "file_extension": ".py",
   "mimetype": "text/x-python",
   "name": "python",
   "nbconvert_exporter": "python",
   "pygments_lexer": "ipython3",
   "version": "3.10.14"
  }
 },
 "nbformat": 4,
 "nbformat_minor": 2
}
